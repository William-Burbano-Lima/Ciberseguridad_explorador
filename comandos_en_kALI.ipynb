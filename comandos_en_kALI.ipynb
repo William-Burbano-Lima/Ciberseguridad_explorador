{
  "nbformat": 4,
  "nbformat_minor": 0,
  "metadata": {
    "colab": {
      "provenance": [],
      "authorship_tag": "ABX9TyOKSVrrrEx02lVDgdyGru4b",
      "include_colab_link": true
    },
    "kernelspec": {
      "name": "python3",
      "display_name": "Python 3"
    },
    "language_info": {
      "name": "python"
    }
  },
  "cells": [
    {
      "cell_type": "markdown",
      "metadata": {
        "id": "view-in-github",
        "colab_type": "text"
      },
      "source": [
        "<a href=\"https://colab.research.google.com/github/William-Burbano-Lima/Ciberseguridad_explorador/blob/main/comandos_en_kALI.ipynb\" target=\"_parent\"><img src=\"https://colab.research.google.com/assets/colab-badge.svg\" alt=\"Open In Colab\"/></a>"
      ]
    },
    {
      "cell_type": "code",
      "execution_count": null,
      "metadata": {
        "id": "Dpp7xH5vVFXa"
      },
      "outputs": [],
      "source": []
    },
    {
      "cell_type": "markdown",
      "source": [
        "Talento Tech  \n",
        "\n",
        "---\n",
        "\n",
        "## **🔹 Instalación de Kali Linux en VirtualBox**\n",
        "Si aún no lo has instalado, sigue estos pasos:  \n",
        "\n",
        "### **1️⃣ Configurar VirtualBox**\n",
        "1. Descarga e instala **VirtualBox** desde [https://www.virtualbox.org/](https://www.virtualbox.org/).  \n",
        "2. Descarga la imagen ISO de **Kali Linux** desde [https://www.kali.org/get-kali/](https://www.kali.org/get-kali/).  \n",
        "3. En VirtualBox, haz clic en **Nueva** y configura:\n",
        "   - **Nombre:** Kali Linux  \n",
        "   - **Tipo:** Linux  \n",
        "   - **Versión:** Debian (64-bit)  \n",
        "4. Asigna **RAM** (mínimo 2 GB, recomendado 4 GB).  \n",
        "5. Crea un **disco duro virtual** de **mínimo 20 GB**.  \n",
        "6. **Asigna la ISO** en **Configuración → Almacenamiento → Controlador IDE → Agregar disco → Seleccionar Kali ISO**.  \n",
        "7. **Inicia la máquina virtual** y sigue la instalación guiada.  \n",
        "\n",
        "---\n",
        "\n",
        "## **🔹 Instalación de Guest Additions (para mejor rendimiento)**  \n",
        "Para mejorar la resolución y el uso compartido del portapapeles, instala **Guest Additions** en Kali Linux:  \n",
        "```bash\n",
        "sudo apt update\n",
        "sudo apt install -y virtualbox-guest-x11\n",
        "reboot\n",
        "```\n",
        "🔹 **Esto permite:**  \n",
        "✔️ Pantalla completa  \n",
        "✔️ Copiar y pegar entre Kali y tu PC  \n",
        "✔️ Arrastrar y soltar archivos  \n",
        "\n",
        "---\n",
        "\n",
        "## **🔹 Comandos básicos en Kali Linux**  \n",
        "\n",
        "### **📌 1. Comandos de sistema**\n",
        "```bash\n",
        "uname -a      # Ver versión del sistema\n",
        "lsb_release -a  # Información detallada del sistema\n",
        "uptime        # Tiempo que lleva encendido\n",
        "whoami        # Usuario actual\n",
        "id            # ID de usuario y grupo\n",
        "```\n",
        "\n",
        "---\n",
        "\n",
        "### **📌 2. Gestión de archivos y carpetas**\n",
        "```bash\n",
        "pwd               # Ver ruta actual\n",
        "ls -la            # Listar archivos con detalles\n",
        "cd /ruta          # Ir a un directorio\n",
        "mkdir nueva_carpeta  # Crear carpeta\n",
        "rm -r carpeta     # Borrar carpeta\n",
        "cp archivo1 archivo2  # Copiar archivo\n",
        "mv archivo carpeta/  # Mover archivo\n",
        "```\n",
        "\n",
        "---\n",
        "\n",
        "### **📌 3. Gestión de procesos**\n",
        "```bash\n",
        "ps aux         # Ver procesos activos\n",
        "top            # Monitoreo de procesos en tiempo real\n",
        "kill PID       # Terminar un proceso (reemplaza PID con el número del proceso)\n",
        "htop           # Monitor de procesos interactivo (instalar con sudo apt install htop)\n",
        "```\n",
        "\n",
        "---\n",
        "\n",
        "### **📌 4. Gestión de usuarios**\n",
        "```bash\n",
        "who            # Ver usuarios conectados\n",
        "adduser nuevo_usuario  # Crear usuario\n",
        "passwd usuario  # Cambiar contraseña de usuario\n",
        "deluser usuario  # Eliminar usuario\n",
        "```\n",
        "\n",
        "---\n",
        "\n",
        "### **📌 5. Actualización y gestión de paquetes**\n",
        "```bash\n",
        "sudo apt update  # Actualizar lista de paquetes\n",
        "sudo apt upgrade -y  # Actualizar todos los paquetes\n",
        "sudo apt install nombre_paquete  # Instalar un paquete\n",
        "sudo apt remove nombre_paquete  # Desinstalar un paquete\n",
        "```\n",
        "\n",
        "---\n",
        "\n",
        "### **📌 6. Configuración de red**\n",
        "```bash\n",
        "ifconfig        # Ver IP y configuración de red (usar \"ip a\" en versiones nuevas)\n",
        "ping google.com  # Ver si hay conexión a internet\n",
        "netstat -tulnp  # Ver puertos abiertos\n",
        "```\n",
        "\n",
        "---\n",
        "\n",
        "### **📌 7. Comandos para ciberseguridad**\n",
        "```bash\n",
        "nmap -sV localhost  # Escaneo de puertos abiertos\n",
        "hydra -L users.txt -P passwords.txt 192.168.1.1 ssh  # Ataque de fuerza bruta a SSH\n",
        "airmon-ng start wlan0  # Habilitar modo monitor en Wi-Fi\n",
        "```\n",
        "🔹 **💡 NOTA:** Úsalo solo en entornos legales y con autorización. 🚨  \n",
        "\n",
        "---\n"
      ],
      "metadata": {
        "id": "GXEN1Lw5VF3P"
      }
    },
    {
      "cell_type": "code",
      "source": [],
      "metadata": {
        "id": "0aJZNCafVMlW"
      },
      "execution_count": null,
      "outputs": []
    }
  ]
}