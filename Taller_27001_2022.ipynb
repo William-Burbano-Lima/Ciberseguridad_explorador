{
  "nbformat": 4,
  "nbformat_minor": 0,
  "metadata": {
    "colab": {
      "provenance": [],
      "authorship_tag": "ABX9TyORb13AUEDkuQYFiNt5g6St",
      "include_colab_link": true
    },
    "kernelspec": {
      "name": "python3",
      "display_name": "Python 3"
    },
    "language_info": {
      "name": "python"
    }
  },
  "cells": [
    {
      "cell_type": "markdown",
      "metadata": {
        "id": "view-in-github",
        "colab_type": "text"
      },
      "source": [
        "<a href=\"https://colab.research.google.com/github/William-Burbano-Lima/Ciberseguridad_explorador/blob/main/Taller_27001_2022.ipynb\" target=\"_parent\"><img src=\"https://colab.research.google.com/assets/colab-badge.svg\" alt=\"Open In Colab\"/></a>"
      ]
    },
    {
      "cell_type": "code",
      "execution_count": null,
      "metadata": {
        "id": "pl6SoTzlcLXB"
      },
      "outputs": [],
      "source": []
    },
    {
      "cell_type": "markdown",
      "source": [
        "**Talento Tech - Ciberseguridad**\n",
        "___\n",
        "\n",
        "**Taller Práctico: Implementación de las Actualizaciones de ISO 27001:2022**\n",
        "\n",
        "**Duración:** 4 horas  \n",
        "**Objetivo:** Familiarizar a los participantes con las principales actualizaciones de la ISO 27001:2022 y proporcionar herramientas prácticas para su aplicación en la gestión de la seguridad de la información.\n",
        "\n",
        "---\n",
        "\n",
        "### **Agenda del Taller**\n",
        "\n",
        "**1. Introducción a ISO 27001:2022 y Principales Cambios (45 min)**\n",
        "   - Evolución de la norma ISO 27001\n",
        "   - Comparación entre la versión 2013 y 2022\n",
        "   - Reestructuración del Anexo A: reducción de controles de 114 a 93\n",
        "   - Incorporación de 11 nuevos controles:\n",
        "     - Inteligencia de amenazas\n",
        "     - Seguridad de la información en la nube\n",
        "     - Gestión de la configuración\n",
        "     - Eliminación segura de información\n",
        "     - Enmascaramiento de datos\n",
        "     - Prevención de fuga de datos (DLP)\n",
        "     - Filtrado web\n",
        "     - Codificación segura\n",
        "     - Gestión de identidad\n",
        "     - Supervisión de actividades de seguridad\n",
        "     - Gestión de la continuidad de la seguridad de la información\n",
        "\n",
        "**2. Práctica: Evaluación de Riesgos y Controles (60 min)**\n",
        "   - Identificación de activos críticos de información\n",
        "   - Análisis de amenazas y vulnerabilidades\n",
        "   - Aplicación de la matriz de riesgos\n",
        "   - Determinación de controles adecuados\n",
        "\n",
        "**3. Implementación de los Nuevos Controles (90 min)**\n",
        "   - **Ejercicio 1:** Inteligencia de amenazas\n",
        "     - Uso de fuentes de inteligencia de amenazas (OSINT, informes de seguridad)\n",
        "     - Análisis de tendencias en ciberseguridad\n",
        "   - **Ejercicio 2:** Seguridad en servicios en la nube\n",
        "     - Evaluación de riesgos en entornos cloud\n",
        "     - Implementación de medidas de protección\n",
        "   - **Ejercicio 3:** Eliminación segura de información\n",
        "     - Demostración de herramientas de borrado seguro\n",
        "   - **Ejercicio 4:** Prevención de fuga de datos (DLP)\n",
        "     - Configuración de políticas DLP en herramientas corporativas\n",
        "   - **Ejercicio 5:** Codificación segura\n",
        "     - Aplicación de buenas prácticas de codificación en entornos empresariales\n",
        "\n",
        "**4. Auditoría Interna y Mejora Continua (45 min)**\n",
        "   - Planificación y realización de auditorías internas\n",
        "   - Identificación de hallazgos y plan de acción correctiva\n",
        "   - Uso de KPIs para medir la eficacia de los controles\n",
        "\n",
        "**5. Conclusiones y Preguntas (15 min)**\n",
        "   - Reflexión sobre los principales aprendizajes\n",
        "   - Discusión sobre retos y oportunidades en la implementación\n",
        "\n",
        "---\n",
        "\n",
        "### **Materiales y Herramientas Requeridas**\n",
        "- Documentación de la norma ISO 27001:2022\n",
        "- Plantillas de evaluación de riesgos y auditoría\n",
        "- Acceso a herramientas de análisis de amenazas y DLP\n",
        "- Simulaciones de entornos de nube seguras\n",
        "\n",
        "Este taller proporcionará una experiencia práctica para entender y aplicar las actualizaciones de la ISO 27001:2022, permitiendo a los participantes fortalecer la seguridad de la información en sus organizaciones.\n",
        "___\n",
        "William Burbano Lima\n",
        "\n"
      ],
      "metadata": {
        "id": "9vchy9cUcMHi"
      }
    },
    {
      "cell_type": "code",
      "source": [],
      "metadata": {
        "id": "HVAx5xascTVk"
      },
      "execution_count": null,
      "outputs": []
    }
  ]
}